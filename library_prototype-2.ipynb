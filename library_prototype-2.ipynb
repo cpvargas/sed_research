{
 "cells": [
  {
   "cell_type": "code",
   "execution_count": 1,
   "metadata": {},
   "outputs": [],
   "source": [
    "import numpy as np\n",
    "import os\n",
    "import matplotlib.pyplot as plt\n",
    "from scipy.interpolate import UnivariateSpline\n",
    "#from scipy.interpolate import InterpolatedUnivariateSpline\n",
    "from scipy.interpolate import interp1d\n",
    "from astropy.cosmology import Planck15\n",
    "from datetime import datetime\n",
    "from decimal import Decimal\n",
    "from scipy import stats\n",
    "c = 299792458 #speed of light m s^-1\n",
    "plt.rcParams['figure.figsize'] = [20, 10]\n",
    "\n",
    "import subprocess"
   ]
  },
  {
   "cell_type": "code",
   "execution_count": 2,
   "metadata": {},
   "outputs": [],
   "source": [
    "libdir = '/Users/cv/sed_research/'\n",
    "\n",
    "def read_params(paramfile):\n",
    "    params = {}\n",
    "    params[\"Filters\"] = {}\n",
    "    with open(paramfile) as f:\n",
    "        for line in f:\n",
    "            #print line.split()\n",
    "            if line[0] != \"#\":\n",
    "                ls = line.split()\n",
    "                params[\"Filters\"][ls[0]] = {}\n",
    "                params[\"Filters\"][ls[0]][\"lam_c\"] = np.float(ls[1])\n",
    "                params[\"Filters\"][ls[0]][\"delt_lam\"] = np.float(ls[2])\n",
    "                params[\"Filters\"][ls[0]][\"5sigma\"] = np.float(ls[3])\n",
    "                params[\"Filters\"][ls[0]][\"filename\"] = libdir + \"Filters/\" + ls[4]\n",
    "                params[\"Filters\"][ls[0]][\"eazy_tag\"] = np.float(ls[5])\n",
    "    return params"
   ]
  },
  {
   "cell_type": "code",
   "execution_count": 3,
   "metadata": {},
   "outputs": [],
   "source": [
    "class sed(object):\n",
    "    \"Spectral Energy Distribution Object\"\n",
    "    def __init__(self,paramfile,templatefile):\n",
    "        params = read_params(paramfile)\n",
    "        self.filters = params.get(\"Filters\")\n",
    "        template = templatefile\n",
    "        self.loglam,self.lognuLnu = np.loadtxt(template,usecols=(0,1), delimiter=\" \", unpack=True)\n",
    "        self.nuLnu = np.power(10.,self.lognuLnu)\n",
    "        self.lam = np.power(10.,self.loglam)\n",
    "        #loading filters\n",
    "        for Filter in self.filters:\n",
    "            lam,trans = np.loadtxt(self.filters[Filter][\"filename\"],usecols =(0,1),delimiter=\" \",unpack=True)\n",
    "            #Pass wavelength from Angstrom to microns\n",
    "            self.filters[Filter][\"lam\"] = lam*1e-4\n",
    "            self.filters[Filter][\"trans\"] = trans\n",
    "            \n",
    "    def redshift(self,z):\n",
    "        #Applying a redshift\n",
    "        self.z = z\n",
    "        self.nuFnu = ((1+z)*self.nuLnu/(4*np.pi*Planck15.luminosity_distance(z).value**2))\n",
    "        self.lam_new = self.lam*(1.+z)\n",
    "        #to Jansky\n",
    "        self.Fnu = self.nuFnu*(self.lam_new*1e-6/c)*1e-10*1e23\n",
    "        #Interpolated nuFnu\n",
    "        self.inuFnu = interp1d(self.lam_new,self.nuFnu)\n",
    "        self.iFnu = interp1d(self.lam_new,self.Fnu)\n",
    "        \n",
    "    def photometry(self):\n",
    "        self.SNR = []\n",
    "        self.phot_err = []\n",
    "        self.phot_c = []\n",
    "        self.phot = []\n",
    "        self.lam_eff = []\n",
    "        self.lam_c = []\n",
    "        self.lam_err = []\n",
    "        self.tag = []\n",
    "        self.eazytag = []\n",
    "        self.det = [] #Detections of upper_limits\n",
    "        #Gets the photometry of all the filters\n",
    "        for Filter in self.filters:\n",
    "            lam = self.filters[Filter][\"lam\"]\n",
    "            trans = self.filters[Filter][\"trans\"]\n",
    "            Fnu = self.iFnu(lam)\n",
    "            #Doing the integral for photometry - effective stimulus\n",
    "            #This is the central photometry\n",
    "            phot_c = np.trapz(Fnu*trans*lam,lam)/np.trapz(trans*lam,lam)\n",
    "            self.phot_c.append(phot_c)\n",
    "            \n",
    "            #Calculating sigma_flux in Jy\n",
    "            \n",
    "            fivesigma_mag = self.filters[Filter][\"5sigma\"]\n",
    "            \n",
    "            sigma_flux = (10**(-(fivesigma_mag + 48.6)/2.5)*1e23)/5.\n",
    "            \n",
    "            #Random realization\n",
    "            phot = np.random.normal(loc=phot_c,scale=sigma_flux)\n",
    "            \n",
    "            if phot<0:\n",
    "                phot=0.\n",
    "            \n",
    "            #self.phot.append(phot)\n",
    "            \n",
    "            #Calculating SNR\n",
    "            SNR = phot/sigma_flux\n",
    "            self.SNR.append(SNR)\n",
    "            \n",
    "            #print \"{}    {}    {}    {}\".format(Filter,sigma_flux,phot,SNR)\n",
    "            \n",
    "            if SNR>3.:\n",
    "                self.det.append(\"det\")\n",
    "                self.phot_err.append(sigma_flux)\n",
    "                self.phot.append(phot)\n",
    "            #Treatment of non detections\n",
    "            else:\n",
    "                self.det.append(\"up_lim\")\n",
    "                #Adding the treatment of 3/2\n",
    "                \n",
    "                phot = (3./2.)*sigma_flux\n",
    "                phot_err = (3./2.)*sigma_flux\n",
    "                \n",
    "                #Randomizing the value\n",
    "                #phot = np.random.normal(loc=phot,scale=phot_err)\n",
    "                self.phot.append(phot)\n",
    "                self.phot_err.append(phot_err)\n",
    "                \n",
    "            #Doing the integral for effective wavelength\n",
    "            lam_eff = np.trapz(Fnu*trans*lam*lam,lam)/np.trapz(Fnu*trans*lam,lam)\n",
    "            self.lam_eff.append(lam_eff)\n",
    "            self.lam_c.append(self.filters[Filter][\"lam_c\"])\n",
    "            self.lam_err.append(self.filters[Filter][\"delt_lam\"]/2.)\n",
    "            self.tag.append(Filter)\n",
    "            self.eazytag.append(self.filters[Filter][\"eazy_tag\"])\n",
    "            #print SNR\n",
    "            \n",
    "    def plot_sed(self,scale=\"normal\",color=\"blue\",linewidth=0.5):\n",
    "        #Plotting the SED and the possible Photometry\n",
    "        #plt.title(\"mysed; z={}\".format(self.z))\n",
    "        plt.ylabel(r\"$F_{\\nu}$[Jy]\")\n",
    "        plt.xlabel(\"$\\lambda$ [$\\mu$m]\")\n",
    "        if scale==\"normal\":\n",
    "            plt.plot(self.lam_new,self.iFnu(self.lam_new),color=color,linewidth=linewidth,label=\"{}\".format(self.z))\n",
    "        if scale==\"loglog\":\n",
    "            plt.loglog(self.lam_new,self.iFnu(self.lam_new),color=color,label=\"{}\".format(self.z))\n",
    "        \n",
    "    def plot_filters(self,norm):\n",
    "        for Filter in self.filters:\n",
    "            lam = mysed.filters[Filter][\"lam\"]\n",
    "            trans = mysed.filters[Filter][\"trans\"]*norm\n",
    "            plt.plot(lam,trans,label = Filter)\n",
    "            \n",
    "    def export_phot(self,program=\"EAZY\"):\n",
    "        idx = np.argsort(np.asarray(self.lam_c))\n",
    "        phot = np.asarray(self.phot)[idx]\n",
    "        phot_err = np.asarray(self.phot_err)[idx]\n",
    "        tag = np.asarray(self.tag)[idx]\n",
    "        eazytag = np.asarray(self.eazytag)[idx]\n",
    "        if program==\"EAZY\":\n",
    "            return phot, phot_err, tag, eazytag "
   ]
  },
  {
   "cell_type": "code",
   "execution_count": 4,
   "metadata": {},
   "outputs": [],
   "source": [
    "parfile = '/Users/cv/sed_research/params/full.par'\n",
    "tempfile = '/Users/cv/sed_research/Templates/ARP220_loglam_lognuLnu.txt'"
   ]
  },
  {
   "cell_type": "code",
   "execution_count": 5,
   "metadata": {},
   "outputs": [],
   "source": [
    "#Initializing here, so we don't have to call the class every time\n",
    "\n",
    "z = 1.\n",
    "mysed = sed(parfile,tempfile)\n",
    "mysed.redshift(z)\n",
    "mysed.photometry()\n",
    "phot, phot_err, tag, eazytag = mysed.export_phot(program=\"EAZY\")\n"
   ]
  },
  {
   "cell_type": "code",
   "execution_count": 6,
   "metadata": {},
   "outputs": [],
   "source": [
    "#Translation from name to filters on EAZY FILTER.RES\n",
    "with open(\"/Users/cv/eazy-photoz/inputs/zphot.translate\",\"w\") as f:\n",
    "    for i in range(len(eazytag)):\n",
    "        f.write(\"f_{} F{}\\n\".format(str(tag[i]),str(int(eazytag[i]))))\n",
    "        f.write(\"e_{} E{}\\n\".format(str(tag[i]),str(int(eazytag[i]))))"
   ]
  },
  {
   "cell_type": "code",
   "execution_count": 7,
   "metadata": {},
   "outputs": [],
   "source": [
    "#Creating a Mock catalog\n",
    "zspace = np.linspace(0.5,3.,10000) #Redshift grid"
   ]
  },
  {
   "cell_type": "code",
   "execution_count": 8,
   "metadata": {},
   "outputs": [
    {
     "name": "stdout",
     "output_type": "stream",
     "text": [
      "done\n"
     ]
    }
   ],
   "source": [
    "with open(\"/Users/cv/eazy-photoz/inputs/eazy.cat\",\"w\") as f:\n",
    "    L = \"#id\"\n",
    "    for i in range(len(tag)):\n",
    "        L+= \" f_{} e_{}\".format(tag[i],tag[i])\n",
    "#    f.write(L + \" z_spec\" + \"\\n\")\n",
    "    f.write(L + \"\\n\")\n",
    "    L = \"#id\"\n",
    "    for i in range(len(eazytag)):\n",
    "        L+= \" F{} E{}\".format(np.int(eazytag[i]),np.int(eazytag[i]))\n",
    "#    f.write(L + \" z_spec\" + \"\\n\")\n",
    "    f.write(L + \"\\n\")\n",
    "    for i in range(len(zspace)):\n",
    "        mysed.redshift(zspace[i])\n",
    "        mysed.photometry()\n",
    "        phot, phot_err, tag, eazytag = mysed.export_phot(program=\"EAZY\")\n",
    "        L = \"{}\".format(i+1)\n",
    "        for j in range(len(phot)):\n",
    "            #EAZY format for Flux is microJansky\n",
    "            L += \"  \" + \"{:.5e}\".format(Decimal(str(1e6*phot[j]))) + \"  \" + \"{:.5e}\".format(Decimal(str(1e6*phot_err[j])))\n",
    "#        L+= \" -1.0000\"\n",
    "        L+= \"\\n\"\n",
    "        f.write(L)\n",
    "    print \"done\""
   ]
  },
  {
   "cell_type": "code",
   "execution_count": 9,
   "metadata": {},
   "outputs": [
    {
     "data": {
      "text/plain": [
       "0"
      ]
     },
     "execution_count": 9,
     "metadata": {},
     "output_type": "execute_result"
    }
   ],
   "source": [
    "#Running EAZY from here\n",
    "os.chdir(\"/Users/cv/eazy-photoz/inputs/\")\n",
    "subprocess.call(\"../src/eazy -p zphot.param.default\",shell=True)"
   ]
  },
  {
   "cell_type": "code",
   "execution_count": 10,
   "metadata": {},
   "outputs": [],
   "source": [
    "zout = np.loadtxt(\"/Users/cv/eazy-photoz/inputs/OUTPUT/photz.zout\",comments=\"#\",usecols=(13),unpack=True)"
   ]
  },
  {
   "cell_type": "code",
   "execution_count": 11,
   "metadata": {},
   "outputs": [
    {
     "data": {
      "text/plain": [
       "array([4.7618, 4.7618, 4.7618, ..., 4.7618, 4.7618, 4.7618])"
      ]
     },
     "execution_count": 11,
     "metadata": {},
     "output_type": "execute_result"
    }
   ],
   "source": [
    "zout"
   ]
  },
  {
   "cell_type": "code",
   "execution_count": 12,
   "metadata": {},
   "outputs": [],
   "source": [
    "plt.rcParams['figure.figsize'] = [10, 10]"
   ]
  },
  {
   "cell_type": "code",
   "execution_count": 13,
   "metadata": {},
   "outputs": [
    {
     "name": "stdout",
     "output_type": "stream",
     "text": [
      "0.4586651265721428 4.375831828498749\n"
     ]
    }
   ],
   "source": [
    "\n",
    "slope, intercept, r_value, p_value, std_err = stats.linregress(zspace,zout)\n",
    "x = np.linspace(0.5,3.0,1000)\n",
    "y = slope*x+intercept\n",
    "plt.plot(x,y,color=\"red\",label=\"linear_regress: slope = {}, intercept = {}\".format(slope,intercept))\n",
    "\n",
    "print slope,intercept\n",
    "\n",
    "\n"
   ]
  },
  {
   "cell_type": "code",
   "execution_count": 14,
   "metadata": {},
   "outputs": [
    {
     "data": {
      "image/png": "[encoded data removed]",
      "text/plain": [
       "<matplotlib.figure.Figure at 0x10d485150>"
      ]
     },
     "metadata": {},
     "output_type": "display_data"
    }
   ],
   "source": [
    "plt.plot(x,x,color=\"magenta\",label=\"y=x\")\n",
    "\n",
    "plt.scatter(zspace,zout,c=\"blue\",alpha=0.03,label=\"10000 sims\")\n",
    "plt.legend()\n",
    "plt.show()"
   ]
  },
  {
   "cell_type": "code",
   "execution_count": 15,
   "metadata": {},
   "outputs": [],
   "source": [
    "phot_test = np.array([1.70771e-01,1.91405e+00,5.69421e+00,3.25895e+01,8.45730e+01,1.19146e+02,1.57714e+02])*1e-6\n",
    "phot_err_test = np.array([7.44628e-02,3.79339e-02,2.65289e-02,4.55096e-02,5.64738e-01,9.86226e-01,9.14601e-01])*1e-6\n",
    "lam_c = np.array([2.9928e+03,4.5573e+03,6.0013e+03,7.9960e+03,1.2289e+04,1.6444e+04,2.2124e+04])*1e-4"
   ]
  },
  {
   "cell_type": "code",
   "execution_count": 16,
   "metadata": {},
   "outputs": [
    {
     "data": {
      "image/png": "[encoded data removed]",
      "text/plain": [
       "<matplotlib.figure.Figure at 0x109ec1110>"
      ]
     },
     "metadata": {},
     "output_type": "display_data"
    }
   ],
   "source": [
    "z = 2.5\n",
    "mysed = sed(parfile,tempfile)\n",
    "mysed.redshift(z)\n",
    "mysed.photometry()\n",
    "\n",
    "ax = plt.subplot(111)\n",
    "ax.set_xscale(\"log\", nonposx='clip')\n",
    "ax.set_yscale(\"log\", nonposy='clip')\n",
    "\n",
    "plt.errorbar(mysed.lam_c, mysed.phot, xerr=mysed.lam_err, yerr=mysed.phot_err,fmt=\"bo\",ecolor=\"blue\")\n",
    "plt.plot(mysed.lam_eff, mysed.phot_c, \"ro\")\n",
    "mysed.plot_sed(scale=\"normal\",color=\"red\")\n",
    "#plt.plot(mysed.lam_eff,mysed.phot_c,\"ro\")\n",
    "\n",
    "#test \n",
    "#plt.errorbar(lam_c,phot_test,yerr=phot_err_test,fmt=\"co\")\n",
    "\n",
    "#mysed.plot_filters(1e-8)\n",
    "plt.ylim(1e-10,4e-2)\n",
    "plt.xlim(1e-1,5e3)\n",
    "#plt.legend(loc=\"lower right\")\n",
    "\n",
    "\n",
    "\n",
    "plt.show()"
   ]
  },
  {
   "cell_type": "code",
   "execution_count": 17,
   "metadata": {},
   "outputs": [
    {
     "data": {
      "text/plain": [
       "'\\nfor i in range(10):\\n    \\n    startTime = datetime.now()\\n    \\n    z = 2.3\\n    mysed = sed(parfile,tempfile)\\n    mysed.redshift(z)\\n    mysed.photometry()\\n\\n    print datetime.now() - startTime\\n    \\n    ax = plt.subplot(111)\\n    ax.set_xscale(\"log\", nonposx=\\'clip\\')\\n    ax.set_yscale(\"log\", nonposy=\\'clip\\')\\n\\n    plt.errorbar(mysed.lam_c, mysed.phot, xerr=mysed.lam_err, yerr=mysed.phot_err,fmt=\"bo\",ecolor=\"blue\")\\n    plt.plot(mysed.lam_eff, mysed.phot_c, \"ro\")\\n    mysed.plot_sed(scale=\"normal\",color=\"red\")\\n    #plt.plot(mysed.lam_eff,mysed.phot_c,\"ro\")\\n\\n    #mysed.plot_filters(1e-8)\\n    plt.ylim(1e-10,4e-2)\\n    plt.xlim(1e-1,5e3)\\n    #plt.legend(loc=\"lower right\")\\n    plt.savefig(\"comparison_z{}_{}.png\".format(z,i),dpi=150)\\n    plt.clf()\\n'"
      ]
     },
     "execution_count": 17,
     "metadata": {},
     "output_type": "execute_result"
    }
   ],
   "source": [
    "\"\"\"\n",
    "for i in range(10):\n",
    "    \n",
    "    startTime = datetime.now()\n",
    "    \n",
    "    z = 2.3\n",
    "    mysed = sed(parfile,tempfile)\n",
    "    mysed.redshift(z)\n",
    "    mysed.photometry()\n",
    "\n",
    "    print datetime.now() - startTime\n",
    "    \n",
    "    ax = plt.subplot(111)\n",
    "    ax.set_xscale(\"log\", nonposx='clip')\n",
    "    ax.set_yscale(\"log\", nonposy='clip')\n",
    "\n",
    "    plt.errorbar(mysed.lam_c, mysed.phot, xerr=mysed.lam_err, yerr=mysed.phot_err,fmt=\"bo\",ecolor=\"blue\")\n",
    "    plt.plot(mysed.lam_eff, mysed.phot_c, \"ro\")\n",
    "    mysed.plot_sed(scale=\"normal\",color=\"red\")\n",
    "    #plt.plot(mysed.lam_eff,mysed.phot_c,\"ro\")\n",
    "\n",
    "    #mysed.plot_filters(1e-8)\n",
    "    plt.ylim(1e-10,4e-2)\n",
    "    plt.xlim(1e-1,5e3)\n",
    "    #plt.legend(loc=\"lower right\")\n",
    "    plt.savefig(\"comparison_z{}_{}.png\".format(z,i),dpi=150)\n",
    "    plt.clf()\n",
    "\"\"\""
   ]
  }
 ],
 "metadata": {
  "kernelspec": {
   "display_name": "Python 2",
   "language": "python",
   "name": "python2"
  },
  "language_info": {
   "codemirror_mode": {
    "name": "ipython",
    "version": 2
   },
   "file_extension": ".py",
   "mimetype": "text/x-python",
   "name": "python",
   "nbconvert_exporter": "python",
   "pygments_lexer": "ipython2",
   "version": "2.7.14"
  }
 },
 "nbformat": 4,
 "nbformat_minor": 2
}
