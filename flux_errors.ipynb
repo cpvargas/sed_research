{
 "cells": [
  {
   "cell_type": "code",
   "execution_count": 40,
   "metadata": {},
   "outputs": [],
   "source": [
    "#Realistic flux errors and comparison with 5 sigma limiting magnitude"
   ]
  },
  {
   "cell_type": "code",
   "execution_count": 41,
   "metadata": {},
   "outputs": [],
   "source": [
    "import numpy as np"
   ]
  },
  {
   "cell_type": "code",
   "execution_count": 42,
   "metadata": {},
   "outputs": [],
   "source": [
    "#F435W ##########################################################################################\n",
    "\n",
    "mag = np.array([22.72,26.15,26.69,24.21])\n",
    "mag_err = np.array([0.12,0.12,0.12,0.12])\n",
    "\n",
    "flux = 10**(-(mag+48.5)/2.5)\n",
    "\n",
    "flux_err = (mag_err*np.log(10)/2.5)*flux"
   ]
  },
  {
   "cell_type": "code",
   "execution_count": 43,
   "metadata": {},
   "outputs": [
    {
     "data": {
      "text/plain": [
       "array([3.59299759e-07, 1.52565707e-08, 9.27805465e-09, 9.10871106e-08])"
      ]
     },
     "execution_count": 43,
     "metadata": {},
     "output_type": "execute_result"
    }
   ],
   "source": [
    "flux_err*1e23"
   ]
  },
  {
   "cell_type": "code",
   "execution_count": 44,
   "metadata": {},
   "outputs": [
    {
     "data": {
      "text/plain": [
       "1.1873037378181973e-07"
      ]
     },
     "execution_count": 44,
     "metadata": {},
     "output_type": "execute_result"
    }
   ],
   "source": [
    "flux_err.mean()*1e23"
   ]
  },
  {
   "cell_type": "code",
   "execution_count": 45,
   "metadata": {},
   "outputs": [
    {
     "data": {
      "text/plain": [
       "4.639347740102527e-08"
      ]
     },
     "execution_count": 45,
     "metadata": {},
     "output_type": "execute_result"
    }
   ],
   "source": [
    "10**(np.log10(flux_err).mean())*1e23"
   ]
  },
  {
   "cell_type": "code",
   "execution_count": 18,
   "metadata": {},
   "outputs": [],
   "source": [
    "#flux_err.mean()*1e23"
   ]
  },
  {
   "cell_type": "code",
   "execution_count": 39,
   "metadata": {},
   "outputs": [
    {
     "data": {
      "text/plain": [
       "3.295641846390998e-08"
      ]
     },
     "execution_count": 39,
     "metadata": {},
     "output_type": "execute_result"
    }
   ],
   "source": [
    "#If 5sigma limiting magnitude is 28.4 for M1149 for example the error in flux is\n",
    "\n",
    "(10**(-(26.2+48.5)/2.5))/5.*1e23*1.25\n",
    "\n",
    "#differs 2 orders of magnitude with the other error estimation"
   ]
  },
  {
   "cell_type": "code",
   "execution_count": 25,
   "metadata": {},
   "outputs": [
    {
     "data": {
      "text/plain": [
       "1.25"
      ]
     },
     "execution_count": 25,
     "metadata": {},
     "output_type": "execute_result"
    }
   ],
   "source": [
    "3./2.4"
   ]
  },
  {
   "cell_type": "code",
   "execution_count": 8,
   "metadata": {},
   "outputs": [
    {
     "name": "stdout",
     "output_type": "stream",
     "text": [
      "[3.25087297e-29 1.38038426e-30 8.39459987e-31 8.24138115e-30]\n"
     ]
    }
   ],
   "source": [
    "onesig = np.array([22.72,26.15,26.69,24.21])\n",
    "\n",
    "flux_err2 = 10**(-(onesig+48.5)/2.5)\n",
    "\n",
    "print flux_err2"
   ]
  },
  {
   "cell_type": "code",
   "execution_count": 9,
   "metadata": {},
   "outputs": [],
   "source": [
    "flux_errs = np.append(flux_err,flux_err2)"
   ]
  },
  {
   "cell_type": "code",
   "execution_count": 10,
   "metadata": {},
   "outputs": [
    {
     "data": {
      "text/plain": [
       "4.639347740102527e-08"
      ]
     },
     "execution_count": 10,
     "metadata": {},
     "output_type": "execute_result"
    }
   ],
   "source": [
    "10**(np.log10(flux_err).mean())*1e23"
   ]
  },
  {
   "cell_type": "code",
   "execution_count": 11,
   "metadata": {},
   "outputs": [],
   "source": [
    "#flux_errs.mean()*1e23"
   ]
  },
  {
   "cell_type": "code",
   "execution_count": 12,
   "metadata": {},
   "outputs": [],
   "source": [
    "#F606W ##########################################################################################\n",
    "\n",
    "mag = np.array([28.24,27.34,26.75,22.53,24.96,26.15,23.38])\n",
    "mag_err = np.array([0.54,0.22,0.14,0.12,0.12,0.12,0.12])\n",
    "\n",
    "flux = 10**(-(mag+48.5)/2.5)\n",
    "\n",
    "flux_err = (mag_err*np.log(10)/2.5)*flux"
   ]
  },
  {
   "cell_type": "code",
   "execution_count": 13,
   "metadata": {},
   "outputs": [
    {
     "data": {
      "text/plain": [
       "array([1.00154263e-08, 9.34756214e-09, 1.02424468e-08, 4.28012967e-07,\n",
       "       4.56516970e-08, 1.52565707e-08, 1.95639672e-07])"
      ]
     },
     "execution_count": 13,
     "metadata": {},
     "output_type": "execute_result"
    }
   ],
   "source": [
    "flux_err*1e23"
   ]
  },
  {
   "cell_type": "code",
   "execution_count": null,
   "metadata": {},
   "outputs": [],
   "source": [
    "flux_err.mean()*1e23"
   ]
  },
  {
   "cell_type": "code",
   "execution_count": 14,
   "metadata": {},
   "outputs": [
    {
     "data": {
      "text/plain": [
       "3.430609747406227e-08"
      ]
     },
     "execution_count": 14,
     "metadata": {},
     "output_type": "execute_result"
    }
   ],
   "source": [
    "10**(np.log10(flux_err).mean())*1e23"
   ]
  },
  {
   "cell_type": "code",
   "execution_count": 15,
   "metadata": {},
   "outputs": [],
   "source": [
    "#flux_err.mean()*1e23"
   ]
  },
  {
   "cell_type": "code",
   "execution_count": 16,
   "metadata": {},
   "outputs": [],
   "source": [
    "#F814W ##########################################################################################\n",
    "\n",
    "mag = np.array([27.52,27.38,23.99,25.77,22.22,24.20,27.02,25.37,22.48])\n",
    "mag_err = np.array([0.14,0.14,0.13,0.22,0.12,0.12,0.12,0.12,0.12])\n",
    "\n",
    "flux = 10**(-(mag+48.5)/2.5)\n",
    "\n",
    "flux_err = (mag_err*np.log(10)/2.5)*flux"
   ]
  },
  {
   "cell_type": "code",
   "execution_count": 17,
   "metadata": {},
   "outputs": [
    {
     "data": {
      "text/plain": [
       "array([5.03968875e-09, 5.73328744e-09, 1.20842314e-07, 3.96915776e-08,\n",
       "       5.69451742e-07, 9.19299293e-08, 6.84631577e-09, 3.12937008e-08,\n",
       "       4.48184596e-07])"
      ]
     },
     "execution_count": 17,
     "metadata": {},
     "output_type": "execute_result"
    }
   ],
   "source": [
    "flux_err*1e23"
   ]
  },
  {
   "cell_type": "code",
   "execution_count": 18,
   "metadata": {},
   "outputs": [
    {
     "data": {
      "text/plain": [
       "4.4588542121234287e-08"
      ]
     },
     "execution_count": 18,
     "metadata": {},
     "output_type": "execute_result"
    }
   ],
   "source": [
    "10**(np.log10(flux_err).mean())*1e23"
   ]
  },
  {
   "cell_type": "code",
   "execution_count": 19,
   "metadata": {},
   "outputs": [],
   "source": [
    "#flux_err.mean()*1e23"
   ]
  },
  {
   "cell_type": "code",
   "execution_count": 20,
   "metadata": {},
   "outputs": [],
   "source": [
    "#F105W ##########################################################################################\n",
    "\n",
    "mag = np.array([26.41,26.09,25.80,22.93,26.65,23.57,27.54,22.09,23.17,24.25,24.49,21.46])\n",
    "mag_err = np.array([0.13,0.13,0.13,0.13,0.13,0.30,0.15,0.12,0.12,0.12,0.12,0.12])\n",
    "\n",
    "flux = 10**(-(mag+48.5)/2.5)\n",
    "\n",
    "flux_err = (mag_err*np.log(10)/2.5)*flux"
   ]
  },
  {
   "cell_type": "code",
   "execution_count": 21,
   "metadata": {},
   "outputs": [
    {
     "data": {
      "text/plain": [
       "array([1.30082547e-08, 1.74670286e-08, 2.28149243e-08, 3.20788678e-07,\n",
       "       1.04284324e-08, 4.10579191e-07, 5.30111150e-09, 6.41884555e-07,\n",
       "       2.37386997e-07, 8.77924009e-08, 7.03812419e-08, 1.14671878e-06])"
      ]
     },
     "execution_count": 21,
     "metadata": {},
     "output_type": "execute_result"
    }
   ],
   "source": [
    "flux_err*1e23"
   ]
  },
  {
   "cell_type": "code",
   "execution_count": 22,
   "metadata": {},
   "outputs": [
    {
     "data": {
      "text/plain": [
       "7.659115853746296e-08"
      ]
     },
     "execution_count": 22,
     "metadata": {},
     "output_type": "execute_result"
    }
   ],
   "source": [
    "10**(np.log10(flux_err).mean())*1e23"
   ]
  },
  {
   "cell_type": "code",
   "execution_count": 23,
   "metadata": {},
   "outputs": [],
   "source": [
    "#flux_err.mean()*1e23"
   ]
  },
  {
   "cell_type": "code",
   "execution_count": 24,
   "metadata": {},
   "outputs": [],
   "source": [
    "#F125W ##########################################################################################\n",
    "\n",
    "mag = np.array([25.63,25.32,24.73,22.49,24.84,22.81,26.45,21.86,22.52,23.67,23.69,21.03])\n",
    "mag_err = np.array([0.12,0.12,0.13,0.12,0.12,0.12,0.12,0.12,0.12,0.12,0.12,0.12])\n",
    "\n",
    "flux = 10**(-(mag+48.5)/2.5)\n",
    "\n",
    "flux_err = (mag_err*np.log(10)/2.5)*flux"
   ]
  },
  {
   "cell_type": "code",
   "execution_count": 25,
   "metadata": {},
   "outputs": [
    {
     "data": {
      "text/plain": [
       "array([2.46295755e-08, 3.27685275e-08, 6.11250225e-08, 4.44075615e-07,\n",
       "       5.09867026e-08, 3.30717309e-07, 1.15732924e-08, 7.93335569e-07,\n",
       "       4.31973322e-07, 1.49781069e-07, 1.47047256e-07, 1.70395031e-06])"
      ]
     },
     "execution_count": 25,
     "metadata": {},
     "output_type": "execute_result"
    }
   ],
   "source": [
    "flux_err*1e23"
   ]
  },
  {
   "cell_type": "code",
   "execution_count": 26,
   "metadata": {},
   "outputs": [
    {
     "data": {
      "text/plain": [
       "1.396434066152873e-07"
      ]
     },
     "execution_count": 26,
     "metadata": {},
     "output_type": "execute_result"
    }
   ],
   "source": [
    "10**(np.log10(flux_err).mean())*1e23"
   ]
  },
  {
   "cell_type": "code",
   "execution_count": 27,
   "metadata": {},
   "outputs": [],
   "source": [
    "#flux_err.mean()*1e23"
   ]
  },
  {
   "cell_type": "code",
   "execution_count": 28,
   "metadata": {},
   "outputs": [],
   "source": [
    "#F140W ##########################################################################################\n",
    "\n",
    "mag = np.array([25.01,24.61,24.17,22.24,24.06,22.39,25.89,21.65,22.23,23.35,23.32,20.83])\n",
    "mag_err = np.array([0.14,0.14,0.12,0.14,0.14,0.14,0.14,0.12,0.12,0.12,0.12,0.12])\n",
    "\n",
    "flux = 10**(-(mag+48.5)/2.5)\n",
    "\n",
    "flux_err = (mag_err*np.log(10)/2.5)*flux"
   ]
  },
  {
   "cell_type": "code",
   "execution_count": 29,
   "metadata": {},
   "outputs": [
    {
     "data": {
      "text/plain": [
       "array([5.08632042e-08, 7.35196982e-08, 9.45054656e-08, 6.52234423e-07,\n",
       "       1.22012329e-07, 5.68072434e-07, 2.26153710e-08, 9.62624534e-07,\n",
       "       5.64230977e-07, 2.01120771e-07, 2.06755431e-07, 2.04859886e-06])"
      ]
     },
     "execution_count": 29,
     "metadata": {},
     "output_type": "execute_result"
    }
   ],
   "source": [
    "flux_err*1e23"
   ]
  },
  {
   "cell_type": "code",
   "execution_count": 30,
   "metadata": {},
   "outputs": [
    {
     "data": {
      "text/plain": [
       "2.2486937917843363e-07"
      ]
     },
     "execution_count": 30,
     "metadata": {},
     "output_type": "execute_result"
    }
   ],
   "source": [
    "10**(np.log10(flux_err).mean())*1e23"
   ]
  },
  {
   "cell_type": "code",
   "execution_count": 31,
   "metadata": {},
   "outputs": [],
   "source": [
    "#flux_err.mean()*1e23"
   ]
  },
  {
   "cell_type": "code",
   "execution_count": 32,
   "metadata": {},
   "outputs": [],
   "source": [
    "#F160W ##########################################################################################\n",
    "\n",
    "mag = np.array([24.44,24.17,23.57,21.97,23.57,22.08,25.46,21.46,22.01,23.22,23.01,20.66])\n",
    "mag_err = np.array([0.12,0.12,0.14,0.12,0.12,0.12,0.12,0.12,0.12,0.12,0.12,0.12])\n",
    "\n",
    "flux = 10**(-(mag+48.5)/2.5)\n",
    "\n",
    "flux_err = (mag_err*np.log(10)/2.5)*flux"
   ]
  },
  {
   "cell_type": "code",
   "execution_count": 33,
   "metadata": {},
   "outputs": [
    {
     "data": {
      "text/plain": [
       "array([7.36982077e-08, 9.45054656e-08, 1.91603623e-07, 7.16897269e-07,\n",
       "       1.64231676e-07, 6.47823840e-07, 2.88042735e-08, 1.14671878e-06,\n",
       "       6.90966395e-07, 2.26702822e-07, 2.75078676e-07, 2.39583512e-06])"
      ]
     },
     "execution_count": 33,
     "metadata": {},
     "output_type": "execute_result"
    }
   ],
   "source": [
    "flux_err*1e23"
   ]
  },
  {
   "cell_type": "code",
   "execution_count": 34,
   "metadata": {},
   "outputs": [
    {
     "data": {
      "text/plain": [
       "2.895359477590606e-07"
      ]
     },
     "execution_count": 34,
     "metadata": {},
     "output_type": "execute_result"
    }
   ],
   "source": [
    "10**(np.log10(flux_err).mean())*1e23"
   ]
  },
  {
   "cell_type": "code",
   "execution_count": 35,
   "metadata": {},
   "outputs": [],
   "source": [
    "#flux_err.mean()*1e23"
   ]
  },
  {
   "cell_type": "code",
   "execution_count": 36,
   "metadata": {},
   "outputs": [],
   "source": [
    "#Ks ##########################################################################################\n",
    "\n",
    "mag = np.array([23.07,24.21,22.46,21.28,22.38,21.06,24.03,20.82,21.12,21.89,21.86])\n",
    "mag_err = np.array([0.11,0.15,0.06,0.09,0.08,0.08,0.20,0.05,0.05,0.05,0.05])\n",
    "\n",
    "flux = 10**(-(mag+48.5)/2.5)\n",
    "\n",
    "flux_err = (mag_err*np.log(10)/2.5)*flux"
   ]
  },
  {
   "cell_type": "code",
   "execution_count": 37,
   "metadata": {},
   "outputs": [
    {
     "data": {
      "text/plain": [
       "array([2.38598860e-07, 1.13858888e-07, 2.28258485e-07, 1.01512188e-06,\n",
       "       3.27616425e-07, 1.10500862e-06, 1.79186661e-07, 8.61480962e-07,\n",
       "       6.53500139e-07, 3.21547905e-07, 3.30556487e-07])"
      ]
     },
     "execution_count": 37,
     "metadata": {},
     "output_type": "execute_result"
    }
   ],
   "source": [
    "flux_err*1e23"
   ]
  },
  {
   "cell_type": "code",
   "execution_count": 38,
   "metadata": {},
   "outputs": [
    {
     "data": {
      "text/plain": [
       "3.80826611314409e-07"
      ]
     },
     "execution_count": 38,
     "metadata": {},
     "output_type": "execute_result"
    }
   ],
   "source": [
    "10**(np.log10(flux_err).mean())*1e23"
   ]
  },
  {
   "cell_type": "code",
   "execution_count": 39,
   "metadata": {},
   "outputs": [],
   "source": [
    "#flux_err.mean()*1e23"
   ]
  }
 ],
 "metadata": {
  "kernelspec": {
   "display_name": "Python 2",
   "language": "python",
   "name": "python2"
  },
  "language_info": {
   "codemirror_mode": {
    "name": "ipython",
    "version": 2
   },
   "file_extension": ".py",
   "mimetype": "text/x-python",
   "name": "python",
   "nbconvert_exporter": "python",
   "pygments_lexer": "ipython2",
   "version": "2.7.16"
  }
 },
 "nbformat": 4,
 "nbformat_minor": 2
}
